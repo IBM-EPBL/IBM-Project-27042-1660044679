{
  "cells": [
    {
      "metadata": {
        "id": "9a479480",
        "outputId": "119cda1b-103f-485a-c232-d04417f89fee"
      },
      "cell_type": "code",
      "source": [
        "\n",
        "import os, types\n",
        "import pandas as pd\n",
        "from botocore.client import Config\n",
        "import ibm_boto3\n",
        "\n",
        "def __iter__(self): return 0\n",
        "\n",
        "# @hidden_cell\n",
        "# The following code accesses a file in your IBM Cloud Object Storage. It includes your credentials.\n",
        "# You might want to remove those credentials before you share the notebook.\n",
        "client_884dfcada24c4dc19214c13c883622bd = ibm_boto3.client(service_name='s3',\n",
        "    ibm_api_key_id='XIhgF3UT3z3xstsQn3B9Hl8wVDRhftIFjic6oOBlqBbP',\n",
        "    ibm_auth_endpoint=\"https://iam.cloud.ibm.com/oidc/token\",\n",
        "    config=Config(signature_version='oauth'),\n",
        "    endpoint_url='https://s3.private.us.cloud-object-storage.appdomain.cloud')\n",
        "\n",
        "body = client_884dfcada24c4dc19214c13c883622bd.get_object(Bucket='b7iris-donotdelete-pr-5fopib9lvera8t',Key='iris.csv')['Body']\n",
        "# add missing __iter__ method, so pandas accepts body as file-like object\n",
        "if not hasattr(body, \"__iter__\"): body.__iter__ = types.MethodType( __iter__, body )\n",
        "\n",
        "df = pd.read_csv(body)\n",
        "df.head()\n"
      ],
      "execution_count": null,
      "outputs": [
        {
          "output_type": "execute_result",
          "execution_count": 1,
          "data": {
            "text/plain": "   sepallength(cm)  sepalwidth(cm)  petallength(cm)  petalwidth(cm)  \\\n0              5.1             3.5              1.4             0.2   \n1              4.9             3.0              1.4             0.2   \n2              4.7             3.2              1.3             0.2   \n3              4.6             3.1              1.5             0.2   \n4              5.0             3.6              1.4             0.2   \n\n         class  \n0  Iris-setosa  \n1  Iris-setosa  \n2  Iris-setosa  \n3  Iris-setosa  \n4  Iris-setosa  ",
            "text/html": "<div>\n<style scoped>\n    .dataframe tbody tr th:only-of-type {\n        vertical-align: middle;\n    }\n\n    .dataframe tbody tr th {\n        vertical-align: top;\n    }\n\n    .dataframe thead th {\n        text-align: right;\n    }\n</style>\n<table border=\"1\" class=\"dataframe\">\n  <thead>\n    <tr style=\"text-align: right;\">\n      <th></th>\n      <th>sepallength(cm)</th>\n      <th>sepalwidth(cm)</th>\n      <th>petallength(cm)</th>\n      <th>petalwidth(cm)</th>\n      <th>class</th>\n    </tr>\n  </thead>\n  <tbody>\n    <tr>\n      <th>0</th>\n      <td>5.1</td>\n      <td>3.5</td>\n      <td>1.4</td>\n      <td>0.2</td>\n      <td>Iris-setosa</td>\n    </tr>\n    <tr>\n      <th>1</th>\n      <td>4.9</td>\n      <td>3.0</td>\n      <td>1.4</td>\n      <td>0.2</td>\n      <td>Iris-setosa</td>\n    </tr>\n    <tr>\n      <th>2</th>\n      <td>4.7</td>\n      <td>3.2</td>\n      <td>1.3</td>\n      <td>0.2</td>\n      <td>Iris-setosa</td>\n    </tr>\n    <tr>\n      <th>3</th>\n      <td>4.6</td>\n      <td>3.1</td>\n      <td>1.5</td>\n      <td>0.2</td>\n      <td>Iris-setosa</td>\n    </tr>\n    <tr>\n      <th>4</th>\n      <td>5.0</td>\n      <td>3.6</td>\n      <td>1.4</td>\n      <td>0.2</td>\n      <td>Iris-setosa</td>\n    </tr>\n  </tbody>\n</table>\n</div>"
          },
          "metadata": {}
        }
      ],
      "id": "9a479480"
    },
    {
      "metadata": {
        "id": "dc3853f3"
      },
      "id": "dc3853f3",
      "cell_type": "code",
      "source": [
        "import pandas as pd"
      ],
      "execution_count": null,
      "outputs": []
    },
    {
      "metadata": {
        "id": "b3d88628"
      },
      "id": "b3d88628",
      "cell_type": "code",
      "source": [
        "X = df.iloc[:, :-1]\n",
        "y = df['class']"
      ],
      "execution_count": null,
      "outputs": []
    },
    {
      "metadata": {
        "id": "3bd799f5",
        "outputId": "b229bee6-d58d-4418-9e4a-a5c725fb700b"
      },
      "id": "3bd799f5",
      "cell_type": "code",
      "source": [
        "X.head()"
      ],
      "execution_count": null,
      "outputs": [
        {
          "output_type": "execute_result",
          "execution_count": 4,
          "data": {
            "text/plain": "   sepallength(cm)  sepalwidth(cm)  petallength(cm)  petalwidth(cm)\n0              5.1             3.5              1.4             0.2\n1              4.9             3.0              1.4             0.2\n2              4.7             3.2              1.3             0.2\n3              4.6             3.1              1.5             0.2\n4              5.0             3.6              1.4             0.2",
            "text/html": "<div>\n<style scoped>\n    .dataframe tbody tr th:only-of-type {\n        vertical-align: middle;\n    }\n\n    .dataframe tbody tr th {\n        vertical-align: top;\n    }\n\n    .dataframe thead th {\n        text-align: right;\n    }\n</style>\n<table border=\"1\" class=\"dataframe\">\n  <thead>\n    <tr style=\"text-align: right;\">\n      <th></th>\n      <th>sepallength(cm)</th>\n      <th>sepalwidth(cm)</th>\n      <th>petallength(cm)</th>\n      <th>petalwidth(cm)</th>\n    </tr>\n  </thead>\n  <tbody>\n    <tr>\n      <th>0</th>\n      <td>5.1</td>\n      <td>3.5</td>\n      <td>1.4</td>\n      <td>0.2</td>\n    </tr>\n    <tr>\n      <th>1</th>\n      <td>4.9</td>\n      <td>3.0</td>\n      <td>1.4</td>\n      <td>0.2</td>\n    </tr>\n    <tr>\n      <th>2</th>\n      <td>4.7</td>\n      <td>3.2</td>\n      <td>1.3</td>\n      <td>0.2</td>\n    </tr>\n    <tr>\n      <th>3</th>\n      <td>4.6</td>\n      <td>3.1</td>\n      <td>1.5</td>\n      <td>0.2</td>\n    </tr>\n    <tr>\n      <th>4</th>\n      <td>5.0</td>\n      <td>3.6</td>\n      <td>1.4</td>\n      <td>0.2</td>\n    </tr>\n  </tbody>\n</table>\n</div>"
          },
          "metadata": {}
        }
      ]
    },
    {
      "metadata": {
        "id": "25026cc2",
        "outputId": "6ab66577-c7fa-46f6-ec65-a45aad3501d0"
      },
      "id": "25026cc2",
      "cell_type": "code",
      "source": [
        "y.head()"
      ],
      "execution_count": null,
      "outputs": [
        {
          "output_type": "execute_result",
          "execution_count": 5,
          "data": {
            "text/plain": "0    Iris-setosa\n1    Iris-setosa\n2    Iris-setosa\n3    Iris-setosa\n4    Iris-setosa\nName: class, dtype: object"
          },
          "metadata": {}
        }
      ]
    },
    {
      "metadata": {
        "id": "7b9fad07"
      },
      "id": "7b9fad07",
      "cell_type": "code",
      "source": [
        "from sklearn.model_selection import train_test_split\n",
        "x_train, x_test, y_train, y_test = train_test_split(X,y, test_size=0.2, random_state=50)"
      ],
      "execution_count": null,
      "outputs": []
    },
    {
      "metadata": {
        "id": "e2481545",
        "outputId": "c4386f57-d4e0-446b-d37e-2f6b9ccee7e0"
      },
      "id": "e2481545",
      "cell_type": "code",
      "source": [
        "from sklearn.ensemble import RandomForestClassifier\n",
        "model = RandomForestClassifier(random_state=40)\n",
        "model.fit(x_train, y_train)"
      ],
      "execution_count": null,
      "outputs": [
        {
          "output_type": "execute_result",
          "execution_count": 7,
          "data": {
            "text/plain": "RandomForestClassifier(random_state=40)"
          },
          "metadata": {}
        }
      ]
    },
    {
      "metadata": {
        "id": "218150da",
        "outputId": "fad5f10d-10c3-4c9a-901f-4eddc073b323"
      },
      "id": "218150da",
      "cell_type": "code",
      "source": [
        "from sklearn.metrics import accuracy_score\n",
        "y_predict = model.predict(x_test)\n",
        "accuracy_score(y_test, y_predict)"
      ],
      "execution_count": null,
      "outputs": [
        {
          "output_type": "execute_result",
          "execution_count": 8,
          "data": {
            "text/plain": "0.9666666666666667"
          },
          "metadata": {}
        }
      ]
    },
    {
      "metadata": {
        "id": "ba81480b",
        "outputId": "7b502d20-449a-4364-8e41-d3ef66076574"
      },
      "id": "ba81480b",
      "cell_type": "code",
      "source": [
        "pd.crosstab(y_test, y_predict)"
      ],
      "execution_count": null,
      "outputs": [
        {
          "output_type": "execute_result",
          "execution_count": 9,
          "data": {
            "text/plain": "col_0            Iris-setosa  Iris-versicolor  Iris-virginica\nclass                                                        \nIris-setosa                9                0               0\nIris-versicolor            0               11               1\nIris-virginica             0                0               9",
            "text/html": "<div>\n<style scoped>\n    .dataframe tbody tr th:only-of-type {\n        vertical-align: middle;\n    }\n\n    .dataframe tbody tr th {\n        vertical-align: top;\n    }\n\n    .dataframe thead th {\n        text-align: right;\n    }\n</style>\n<table border=\"1\" class=\"dataframe\">\n  <thead>\n    <tr style=\"text-align: right;\">\n      <th>col_0</th>\n      <th>Iris-setosa</th>\n      <th>Iris-versicolor</th>\n      <th>Iris-virginica</th>\n    </tr>\n    <tr>\n      <th>class</th>\n      <th></th>\n      <th></th>\n      <th></th>\n    </tr>\n  </thead>\n  <tbody>\n    <tr>\n      <th>Iris-setosa</th>\n      <td>9</td>\n      <td>0</td>\n      <td>0</td>\n    </tr>\n    <tr>\n      <th>Iris-versicolor</th>\n      <td>0</td>\n      <td>11</td>\n      <td>1</td>\n    </tr>\n    <tr>\n      <th>Iris-virginica</th>\n      <td>0</td>\n      <td>0</td>\n      <td>9</td>\n    </tr>\n  </tbody>\n</table>\n</div>"
          },
          "metadata": {}
        }
      ]
    },
    {
      "metadata": {
        "id": "489ee5e0"
      },
      "cell_type": "code",
      "source": [],
      "execution_count": null,
      "outputs": [],
      "id": "489ee5e0"
    },
    {
      "metadata": {
        "id": "e2b5dd30"
      },
      "cell_type": "markdown",
      "source": [
        "## IBM -Deployment"
      ],
      "id": "e2b5dd30"
    },
    {
      "metadata": {
        "id": "3cbdd670",
        "outputId": "3cdd1ad3-1d68-4e1d-fd16-56b2a0d55c08"
      },
      "cell_type": "code",
      "source": [
        "!pip install -U ibm-watson-machine-learning"
      ],
      "execution_count": null,
      "outputs": [
        {
          "output_type": "stream",
          "text": "Requirement already satisfied: ibm-watson-machine-learning in /opt/conda/envs/Python-3.9/lib/python3.9/site-packages (1.0.238)\nCollecting ibm-watson-machine-learning\n  Downloading ibm_watson_machine_learning-1.0.253-py3-none-any.whl (1.8 MB)\n\u001b[K     |████████████████████████████████| 1.8 MB 15.1 MB/s eta 0:00:01███████████████████████████▎    | 1.5 MB 15.1 MB/s eta 0:00:01\n\u001b[?25hRequirement already satisfied: certifi in /opt/conda/envs/Python-3.9/lib/python3.9/site-packages (from ibm-watson-machine-learning) (2022.6.15)\nRequirement already satisfied: requests in /opt/conda/envs/Python-3.9/lib/python3.9/site-packages (from ibm-watson-machine-learning) (2.26.0)\nRequirement already satisfied: importlib-metadata in /opt/conda/envs/Python-3.9/lib/python3.9/site-packages (from ibm-watson-machine-learning) (4.8.2)\nRequirement already satisfied: urllib3 in /opt/conda/envs/Python-3.9/lib/python3.9/site-packages (from ibm-watson-machine-learning) (1.26.7)\nRequirement already satisfied: tabulate in /opt/conda/envs/Python-3.9/lib/python3.9/site-packages (from ibm-watson-machine-learning) (0.8.9)\nRequirement already satisfied: ibm-cos-sdk==2.11.* in /opt/conda/envs/Python-3.9/lib/python3.9/site-packages (from ibm-watson-machine-learning) (2.11.0)\nRequirement already satisfied: packaging in /opt/conda/envs/Python-3.9/lib/python3.9/site-packages (from ibm-watson-machine-learning) (21.3)\nRequirement already satisfied: pandas<1.5.0,>=0.24.2 in /opt/conda/envs/Python-3.9/lib/python3.9/site-packages (from ibm-watson-machine-learning) (1.3.4)\nRequirement already satisfied: lomond in /opt/conda/envs/Python-3.9/lib/python3.9/site-packages (from ibm-watson-machine-learning) (0.3.3)\nRequirement already satisfied: jmespath<1.0.0,>=0.7.1 in /opt/conda/envs/Python-3.9/lib/python3.9/site-packages (from ibm-cos-sdk==2.11.*->ibm-watson-machine-learning) (0.10.0)\nRequirement already satisfied: ibm-cos-sdk-s3transfer==2.11.0 in /opt/conda/envs/Python-3.9/lib/python3.9/site-packages (from ibm-cos-sdk==2.11.*->ibm-watson-machine-learning) (2.11.0)\nRequirement already satisfied: ibm-cos-sdk-core==2.11.0 in /opt/conda/envs/Python-3.9/lib/python3.9/site-packages (from ibm-cos-sdk==2.11.*->ibm-watson-machine-learning) (2.11.0)\nRequirement already satisfied: python-dateutil<3.0.0,>=2.1 in /opt/conda/envs/Python-3.9/lib/python3.9/site-packages (from ibm-cos-sdk-core==2.11.0->ibm-cos-sdk==2.11.*->ibm-watson-machine-learning) (2.8.2)\nRequirement already satisfied: pytz>=2017.3 in /opt/conda/envs/Python-3.9/lib/python3.9/site-packages (from pandas<1.5.0,>=0.24.2->ibm-watson-machine-learning) (2021.3)\nRequirement already satisfied: numpy>=1.17.3 in /opt/conda/envs/Python-3.9/lib/python3.9/site-packages (from pandas<1.5.0,>=0.24.2->ibm-watson-machine-learning) (1.20.3)\nRequirement already satisfied: six>=1.5 in /opt/conda/envs/Python-3.9/lib/python3.9/site-packages (from python-dateutil<3.0.0,>=2.1->ibm-cos-sdk-core==2.11.0->ibm-cos-sdk==2.11.*->ibm-watson-machine-learning) (1.15.0)\nRequirement already satisfied: idna<4,>=2.5 in /opt/conda/envs/Python-3.9/lib/python3.9/site-packages (from requests->ibm-watson-machine-learning) (3.3)\nRequirement already satisfied: charset-normalizer~=2.0.0 in /opt/conda/envs/Python-3.9/lib/python3.9/site-packages (from requests->ibm-watson-machine-learning) (2.0.4)\nRequirement already satisfied: zipp>=0.5 in /opt/conda/envs/Python-3.9/lib/python3.9/site-packages (from importlib-metadata->ibm-watson-machine-learning) (3.6.0)\nRequirement already satisfied: pyparsing!=3.0.5,>=2.0.2 in /opt/conda/envs/Python-3.9/lib/python3.9/site-packages (from packaging->ibm-watson-machine-learning) (3.0.4)\nInstalling collected packages: ibm-watson-machine-learning\n  Attempting uninstall: ibm-watson-machine-learning\n    Found existing installation: ibm-watson-machine-learning 1.0.238\n    Uninstalling ibm-watson-machine-learning-1.0.238:\n      Successfully uninstalled ibm-watson-machine-learning-1.0.238\nSuccessfully installed ibm-watson-machine-learning-1.0.253\n",
          "name": "stdout"
        }
      ],
      "id": "3cbdd670"
    },
    {
      "metadata": {
        "id": "91ffe47f"
      },
      "cell_type": "code",
      "source": [
        "from ibm_watson_machine_learning import APIClient\n",
        "import json"
      ],
      "execution_count": null,
      "outputs": [],
      "id": "91ffe47f"
    },
    {
      "metadata": {
        "id": "a76bf83e"
      },
      "cell_type": "markdown",
      "source": [
        "## Authenticate and set space"
      ],
      "id": "a76bf83e"
    },
    {
      "metadata": {
        "id": "b99be852"
      },
      "cell_type": "code",
      "source": [
        "wml_credentials = {\n",
        "    \"apikey\":\"kdw7pwytkDuH1FTfuY6WS36PoxVezw3h51gPGuIzYP9D\",\n",
        "    \"url\":\"https://us-south.ml.cloud.ibm.com\"\n",
        "}"
      ],
      "execution_count": null,
      "outputs": [],
      "id": "b99be852"
    },
    {
      "metadata": {
        "id": "b769d1db"
      },
      "cell_type": "code",
      "source": [
        "wml_client = APIClient(wml_credentials)"
      ],
      "execution_count": null,
      "outputs": [],
      "id": "b769d1db"
    },
    {
      "metadata": {
        "id": "11764dc2",
        "outputId": "35c6cb1e-421d-4518-e5e6-5e1c4e8f1047"
      },
      "cell_type": "code",
      "source": [
        "wml_client.spaces.list()"
      ],
      "execution_count": null,
      "outputs": [
        {
          "output_type": "stream",
          "text": "Note: 'limit' is not provided. Only first 50 records will be displayed if the number of records exceed 50\n------------------------------------  -------  ------------------------\nID                                    NAME     CREATED\n5581c26a-8159-46ab-9c2d-2da5055bc1e2  iris-B7  2022-10-17T09:05:53.347Z\n------------------------------------  -------  ------------------------\n",
          "name": "stdout"
        }
      ],
      "id": "11764dc2"
    },
    {
      "metadata": {
        "id": "3a600621"
      },
      "cell_type": "code",
      "source": [
        "SPACE_ID= \"5581c26a-8159-46ab-9c2d-2da5055bc1e2\""
      ],
      "execution_count": null,
      "outputs": [],
      "id": "3a600621"
    },
    {
      "metadata": {
        "id": "f865d9ab",
        "outputId": "f9038ff8-92d4-49fe-ae44-5789e4cafa34"
      },
      "cell_type": "code",
      "source": [
        "wml_client.set.default_space(SPACE_ID)"
      ],
      "execution_count": null,
      "outputs": [
        {
          "output_type": "execute_result",
          "execution_count": 19,
          "data": {
            "text/plain": "'SUCCESS'"
          },
          "metadata": {}
        }
      ],
      "id": "f865d9ab"
    },
    {
      "metadata": {
        "id": "df596cd2",
        "outputId": "cc71f2a0-8588-45d4-bb62-954b67fb6bf0"
      },
      "cell_type": "code",
      "source": [
        "wml_client.software_specifications.list(100)"
      ],
      "execution_count": null,
      "outputs": [
        {
          "output_type": "stream",
          "text": "-------------------------------  ------------------------------------  ----\nNAME                             ASSET_ID                              TYPE\ndefault_py3.6                    0062b8c9-8b7d-44a0-a9b9-46c416adcbd9  base\nkernel-spark3.2-scala2.12        020d69ce-7ac1-5e68-ac1a-31189867356a  base\npytorch-onnx_1.3-py3.7-edt       069ea134-3346-5748-b513-49120e15d288  base\nscikit-learn_0.20-py3.6          09c5a1d0-9c1e-4473-a344-eb7b665ff687  base\nspark-mllib_3.0-scala_2.12       09f4cff0-90a7-5899-b9ed-1ef348aebdee  base\npytorch-onnx_rt22.1-py3.9        0b848dd4-e681-5599-be41-b5f6fccc6471  base\nai-function_0.1-py3.6            0cdb0f1e-5376-4f4d-92dd-da3b69aa9bda  base\nshiny-r3.6                       0e6e79df-875e-4f24-8ae9-62dcc2148306  base\ntensorflow_2.4-py3.7-horovod     1092590a-307d-563d-9b62-4eb7d64b3f22  base\npytorch_1.1-py3.6                10ac12d6-6b30-4ccd-8392-3e922c096a92  base\ntensorflow_1.15-py3.6-ddl        111e41b3-de2d-5422-a4d6-bf776828c4b7  base\nruntime-22.1-py3.9               12b83a17-24d8-5082-900f-0ab31fbfd3cb  base\nscikit-learn_0.22-py3.6          154010fa-5b3b-4ac1-82af-4d5ee5abbc85  base\ndefault_r3.6                     1b70aec3-ab34-4b87-8aa0-a4a3c8296a36  base\npytorch-onnx_1.3-py3.6           1bc6029a-cc97-56da-b8e0-39c3880dbbe7  base\nkernel-spark3.3-r3.6             1c9e5454-f216-59dd-a20e-474a5cdf5988  base\npytorch-onnx_rt22.1-py3.9-edt    1d362186-7ad5-5b59-8b6c-9d0880bde37f  base\ntensorflow_2.1-py3.6             1eb25b84-d6ed-5dde-b6a5-3fbdf1665666  base\nspark-mllib_3.2                  20047f72-0a98-58c7-9ff5-a77b012eb8f5  base\ntensorflow_2.4-py3.8-horovod     217c16f6-178f-56bf-824a-b19f20564c49  base\nruntime-22.1-py3.9-cuda          26215f05-08c3-5a41-a1b0-da66306ce658  base\ndo_py3.8                         295addb5-9ef9-547e-9bf4-92ae3563e720  base\nautoai-ts_3.8-py3.8              2aa0c932-798f-5ae9-abd6-15e0c2402fb5  base\ntensorflow_1.15-py3.6            2b73a275-7cbf-420b-a912-eae7f436e0bc  base\nkernel-spark3.3-py3.9            2b7961e2-e3b1-5a8c-a491-482c8368839a  base\npytorch_1.2-py3.6                2c8ef57d-2687-4b7d-acce-01f94976dac1  base\nspark-mllib_2.3                  2e51f700-bca0-4b0d-88dc-5c6791338875  base\npytorch-onnx_1.1-py3.6-edt       32983cea-3f32-4400-8965-dde874a8d67e  base\nspark-mllib_3.0-py37             36507ebe-8770-55ba-ab2a-eafe787600e9  base\nspark-mllib_2.4                  390d21f8-e58b-4fac-9c55-d7ceda621326  base\nxgboost_0.82-py3.6               39e31acd-5f30-41dc-ae44-60233c80306e  base\npytorch-onnx_1.2-py3.6-edt       40589d0e-7019-4e28-8daa-fb03b6f4fe12  base\ndefault_r36py38                  41c247d3-45f8-5a71-b065-8580229facf0  base\nautoai-ts_rt22.1-py3.9           4269d26e-07ba-5d40-8f66-2d495b0c71f7  base\nautoai-obm_3.0                   42b92e18-d9ab-567f-988a-4240ba1ed5f7  base\npmml-3.0_4.3                     493bcb95-16f1-5bc5-bee8-81b8af80e9c7  base\nspark-mllib_2.4-r_3.6            49403dff-92e9-4c87-a3d7-a42d0021c095  base\nxgboost_0.90-py3.6               4ff8d6c2-1343-4c18-85e1-689c965304d3  base\npytorch-onnx_1.1-py3.6           50f95b2a-bc16-43bb-bc94-b0bed208c60b  base\nautoai-ts_3.9-py3.8              52c57136-80fa-572e-8728-a5e7cbb42cde  base\nspark-mllib_2.4-scala_2.11       55a70f99-7320-4be5-9fb9-9edb5a443af5  base\nspark-mllib_3.0                  5c1b0ca2-4977-5c2e-9439-ffd44ea8ffe9  base\nautoai-obm_2.0                   5c2e37fa-80b8-5e77-840f-d912469614ee  base\nspss-modeler_18.1                5c3cad7e-507f-4b2a-a9a3-ab53a21dee8b  base\ncuda-py3.8                       5d3232bf-c86b-5df4-a2cd-7bb870a1cd4e  base\nautoai-kb_3.1-py3.7              632d4b22-10aa-5180-88f0-f52dfb6444d7  base\npytorch-onnx_1.7-py3.8           634d3cdc-b562-5bf9-a2d4-ea90a478456b  base\nspark-mllib_2.3-r_3.6            6586b9e3-ccd6-4f92-900f-0f8cb2bd6f0c  base\ntensorflow_2.4-py3.7             65e171d7-72d1-55d9-8ebb-f813d620c9bb  base\nspss-modeler_18.2                687eddc9-028a-4117-b9dd-e57b36f1efa5  base\npytorch-onnx_1.2-py3.6           692a6a4d-2c4d-45ff-a1ed-b167ee55469a  base\nspark-mllib_2.3-scala_2.11       7963efe5-bbec-417e-92cf-0574e21b4e8d  base\nspark-mllib_2.4-py37             7abc992b-b685-532b-a122-a396a3cdbaab  base\ncaffe_1.0-py3.6                  7bb3dbe2-da6e-4145-918d-b6d84aa93b6b  base\npytorch-onnx_1.7-py3.7           812c6631-42b7-5613-982b-02098e6c909c  base\ncuda-py3.6                       82c79ece-4d12-40e6-8787-a7b9e0f62770  base\ntensorflow_1.15-py3.6-horovod    8964680e-d5e4-5bb8-919b-8342c6c0dfd8  base\nhybrid_0.1                       8c1a58c6-62b5-4dc4-987a-df751c2756b6  base\npytorch-onnx_1.3-py3.7           8d5d8a87-a912-54cf-81ec-3914adaa988d  base\ncaffe-ibm_1.0-py3.6              8d863266-7927-4d1e-97d7-56a7f4c0a19b  base\nspss-modeler_17.1                902d0051-84bd-4af6-ab6b-8f6aa6fdeabb  base\ndo_12.10                         9100fd72-8159-4eb9-8a0b-a87e12eefa36  base\ndo_py3.7                         9447fa8b-2051-4d24-9eef-5acb0e3c59f8  base\nspark-mllib_3.0-r_3.6            94bb6052-c837-589d-83f1-f4142f219e32  base\ncuda-py3.7-opence                94e9652b-7f2d-59d5-ba5a-23a414ea488f  base\nnlp-py3.8                        96e60351-99d4-5a1c-9cc0-473ac1b5a864  base\ncuda-py3.7                       9a44990c-1aa1-4c7d-baf8-c4099011741c  base\nhybrid_0.2                       9b3f9040-9cee-4ead-8d7a-780600f542f7  base\nspark-mllib_3.0-py38             9f7a8fc1-4d3c-5e65-ab90-41fa8de2d418  base\nautoai-kb_3.3-py3.7              a545cca3-02df-5c61-9e88-998b09dc79af  base\nspark-mllib_3.0-py39             a6082a27-5acc-5163-b02c-6b96916eb5e0  base\nruntime-22.1-py3.9-do            a7e7dbf1-1d03-5544-994d-e5ec845ce99a  base\ndefault_py3.8                    ab9e1b80-f2ce-592c-a7d2-4f2344f77194  base\ntensorflow_rt22.1-py3.9          acd9c798-6974-5d2f-a657-ce06e986df4d  base\nkernel-spark3.2-py3.9            ad7033ee-794e-58cf-812e-a95f4b64b207  base\nautoai-obm_2.0 with Spark 3.0    af10f35f-69fa-5d66-9bf5-acb58434263a  base\ndefault_py3.7_opence             c2057dd4-f42c-5f77-a02f-72bdbd3282c9  base\ntensorflow_2.1-py3.7             c4032338-2a40-500a-beef-b01ab2667e27  base\ndo_py3.7_opence                  cc8f8976-b74a-551a-bb66-6377f8d865b4  base\nspark-mllib_3.3                  d11f2434-4fc7-58b7-8a62-755da64fdaf8  base\nautoai-kb_3.0-py3.6              d139f196-e04b-5d8b-9140-9a10ca1fa91a  base\nspark-mllib_3.0-py36             d82546d5-dd78-5fbb-9131-2ec309bc56ed  base\nautoai-kb_3.4-py3.8              da9b39c3-758c-5a4f-9cfd-457dd4d8c395  base\nkernel-spark3.2-r3.6             db2fe4d6-d641-5d05-9972-73c654c60e0a  base\nautoai-kb_rt22.1-py3.9           db6afe93-665f-5910-b117-d879897404d9  base\ntensorflow_rt22.1-py3.9-horovod  dda170cc-ca67-5da7-9b7a-cf84c6987fae  base\nautoai-ts_1.0-py3.7              deef04f0-0c42-5147-9711-89f9904299db  base\ntensorflow_2.1-py3.7-horovod     e384fce5-fdd1-53f8-bc71-11326c9c635f  base\ndefault_py3.7                    e4429883-c883-42b6-87a8-f419d64088cd  base\ndo_22.1                          e51999ba-6452-5f1f-8287-17228b88b652  base\nautoai-obm_3.2                   eae86aab-da30-5229-a6a6-1d0d4e368983  base\ndo_20.1                          f686cdd9-7904-5f9d-a732-01b0d6b10dc5  base\nscikit-learn_0.19-py3.6          f963fa9d-4bb7-5652-9c5d-8d9289ef6ad9  base\ntensorflow_2.4-py3.8             fe185c44-9a99-5425-986b-59bd1d2eda46  base\n-------------------------------  ------------------------------------  ----\n",
          "name": "stdout"
        }
      ],
      "id": "df596cd2"
    },
    {
      "metadata": {
        "id": "9a6f990c"
      },
      "cell_type": "markdown",
      "source": [
        "## Save and Deploy the model"
      ],
      "id": "9a6f990c"
    },
    {
      "metadata": {
        "id": "d8c66d3b",
        "outputId": "af8aafe5-d1c7-45d1-a353-2691a640b05e"
      },
      "cell_type": "code",
      "source": [
        "import sklearn\n",
        "sklearn.__version__"
      ],
      "execution_count": null,
      "outputs": [
        {
          "output_type": "execute_result",
          "execution_count": 22,
          "data": {
            "text/plain": "'1.0.2'"
          },
          "metadata": {}
        }
      ],
      "id": "d8c66d3b"
    },
    {
      "metadata": {
        "id": "49cc479c"
      },
      "cell_type": "code",
      "source": [
        "MODEL_NAME = 'iris-B7'\n",
        "DEPLOYMENT_NAME = 'iris-B7'\n",
        "DEMO_MODEL = model"
      ],
      "execution_count": null,
      "outputs": [],
      "id": "49cc479c"
    },
    {
      "metadata": {
        "id": "a8e4da13"
      },
      "cell_type": "code",
      "source": [
        "# Set Python Version\n",
        "software_spec_uid = wml_client.software_specifications.get_id_by_name('runtime-22.1-py3.9')"
      ],
      "execution_count": null,
      "outputs": [],
      "id": "a8e4da13"
    },
    {
      "metadata": {
        "id": "fd5ad41f"
      },
      "cell_type": "code",
      "source": [
        "# Setup model meta\n",
        "model_props = {\n",
        "    wml_client.repository.ModelMetaNames.NAME: MODEL_NAME, \n",
        "    wml_client.repository.ModelMetaNames.TYPE: 'scikit-learn_1.0', \n",
        "    wml_client.repository.ModelMetaNames.SOFTWARE_SPEC_UID: software_spec_uid \n",
        "}"
      ],
      "execution_count": null,
      "outputs": [],
      "id": "fd5ad41f"
    },
    {
      "metadata": {
        "id": "b11df718"
      },
      "cell_type": "code",
      "source": [
        "#Save model\n",
        "\n",
        "model_details = wml_client.repository.store_model(\n",
        "    model=DEMO_MODEL, \n",
        "    meta_props=model_props, \n",
        "    training_data=x_train, \n",
        "    training_target=y_train\n",
        ")"
      ],
      "execution_count": null,
      "outputs": [],
      "id": "b11df718"
    },
    {
      "metadata": {
        "id": "a990e588",
        "outputId": "c7a908ea-8f91-4bda-ef53-900ddbaef1e3"
      },
      "cell_type": "code",
      "source": [
        "model_details"
      ],
      "execution_count": null,
      "outputs": [
        {
          "output_type": "execute_result",
          "execution_count": 28,
          "data": {
            "text/plain": "{'entity': {'hybrid_pipeline_software_specs': [],\n  'label_column': 'class',\n  'schemas': {'input': [{'fields': [{'name': 'sepallength(cm)',\n       'type': 'float64'},\n      {'name': 'sepalwidth(cm)', 'type': 'float64'},\n      {'name': 'petallength(cm)', 'type': 'float64'},\n      {'name': 'petalwidth(cm)', 'type': 'float64'}],\n     'id': '1',\n     'type': 'struct'}],\n   'output': []},\n  'software_spec': {'id': '12b83a17-24d8-5082-900f-0ab31fbfd3cb',\n   'name': 'runtime-22.1-py3.9'},\n  'type': 'scikit-learn_1.0'},\n 'metadata': {'created_at': '2022-10-17T09:21:33.324Z',\n  'id': '60c52e65-0cb3-4d96-b224-244582335131',\n  'modified_at': '2022-10-17T09:21:36.772Z',\n  'name': 'iris-B7',\n  'owner': 'IBMid-6610042FA2',\n  'resource_key': 'b1f43d6e-933b-4056-aae8-e8c635d31e22',\n  'space_id': '5581c26a-8159-46ab-9c2d-2da5055bc1e2'},\n 'system': {'warnings': []}}"
          },
          "metadata": {}
        }
      ],
      "id": "a990e588"
    },
    {
      "metadata": {
        "id": "55d8193e",
        "outputId": "97eccf08-f1c0-4a1e-c852-832c0ce0a1d8"
      },
      "cell_type": "code",
      "source": [
        "model_id = wml_client.repository.get_model_id(model_details)\n",
        "model_id"
      ],
      "execution_count": null,
      "outputs": [
        {
          "output_type": "execute_result",
          "execution_count": 29,
          "data": {
            "text/plain": "'60c52e65-0cb3-4d96-b224-244582335131'"
          },
          "metadata": {}
        }
      ],
      "id": "55d8193e"
    },
    {
      "metadata": {
        "id": "ed5cb33f"
      },
      "cell_type": "code",
      "source": [
        "# Set meta\n",
        "deployment_props = {\n",
        "    wml_client.deployments.ConfigurationMetaNames.NAME:DEPLOYMENT_NAME, \n",
        "    wml_client.deployments.ConfigurationMetaNames.ONLINE: {}\n",
        "}"
      ],
      "execution_count": null,
      "outputs": [],
      "id": "ed5cb33f"
    },
    {
      "metadata": {
        "id": "851ae335",
        "outputId": "12c983ee-a475-49b5-87b7-7d0b069964fc"
      },
      "cell_type": "code",
      "source": [
        "# Deploy\n",
        "deployment = wml_client.deployments.create(\n",
        "    artifact_uid=model_id, \n",
        "    meta_props=deployment_props \n",
        ")"
      ],
      "execution_count": null,
      "outputs": [
        {
          "output_type": "stream",
          "text": "\n\n#######################################################################################\n\nSynchronous deployment creation for uid: '60c52e65-0cb3-4d96-b224-244582335131' started\n\n#######################################################################################\n\n\ninitializing\nNote: online_url is deprecated and will be removed in a future release. Use serving_urls instead.\n\nready\n\n\n------------------------------------------------------------------------------------------------\nSuccessfully finished deployment creation, deployment_uid='6d428612-296a-478d-9707-a0877a01672e'\n------------------------------------------------------------------------------------------------\n\n\n",
          "name": "stdout"
        }
      ],
      "id": "851ae335"
    },
    {
      "metadata": {
        "id": "2ca525f9"
      },
      "cell_type": "code",
      "source": [
        "## 3.20"
      ],
      "execution_count": null,
      "outputs": [],
      "id": "2ca525f9"
    },
    {
      "metadata": {
        "id": "fd787900"
      },
      "cell_type": "code",
      "source": [],
      "execution_count": null,
      "outputs": [],
      "id": "fd787900"
    }
  ],
  "metadata": {
    "kernelspec": {
      "name": "python3",
      "display_name": "Python 3.9",
      "language": "python"
    },
    "language_info": {
      "name": "python",
      "version": "3.9.12",
      "mimetype": "text/x-python",
      "codemirror_mode": {
        "name": "ipython",
        "version": 3
      },
      "pygments_lexer": "ipython3",
      "nbconvert_exporter": "python",
      "file_extension": ".py"
    },
    "colab": {
      "provenance": []
    }
  },
  "nbformat": 4,
  "nbformat_minor": 5
}